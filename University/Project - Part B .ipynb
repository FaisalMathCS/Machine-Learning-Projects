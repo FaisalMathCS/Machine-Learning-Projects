{
 "cells": [
  {
   "cell_type": "markdown",
   "metadata": {},
   "source": [
    "- Student 1: Abdulmohsen Abanmy - 201920790\n",
    "- Student 2: Faisal Alzahrani - 201829740"
   ]
  },
  {
   "cell_type": "markdown",
   "metadata": {},
   "source": [
    "# Part A"
   ]
  },
  {
   "cell_type": "code",
   "execution_count": 1,
   "metadata": {},
   "outputs": [],
   "source": [
    "import pandas as pd\n",
    "import numpy as np\n",
    "from sklearn import datasets\n",
    "from sklearn.model_selection import train_test_split\n",
    "import seaborn as sns\n",
    "import matplotlib.pyplot as plt\n",
    "from sklearn.preprocessing import StandardScaler, OneHotEncoder, PolynomialFeatures\n",
    "from sklearn.model_selection import train_test_split\n",
    "from sklearn.feature_selection import RFE\n",
    "from sklearn.ensemble import RandomForestClassifier\n",
    "from sklearn.metrics import f1_score, precision_score, recall_score, confusion_matrix\n",
    "\n",
    "np.random.seed(4444)"
   ]
  },
  {
   "cell_type": "markdown",
   "metadata": {},
   "source": [
    "#### Dataset analysis"
   ]
  },
  {
   "cell_type": "code",
   "execution_count": 2,
   "metadata": {},
   "outputs": [
    {
     "name": "stdout",
     "output_type": "stream",
     "text": [
      "<class 'pandas.core.frame.DataFrame'>\n",
      "RangeIndex: 6124 entries, 0 to 6123\n",
      "Data columns (total 16 columns):\n",
      " #   Column  Non-Null Count  Dtype  \n",
      "---  ------  --------------  -----  \n",
      " 0   X5      6124 non-null   int64  \n",
      " 1   X2      5520 non-null   float64\n",
      " 2   X3      6124 non-null   int64  \n",
      " 3   X4      6124 non-null   int64  \n",
      " 4   X6      6124 non-null   int64  \n",
      " 5   X1      6124 non-null   int64  \n",
      " 6   X10     6124 non-null   int64  \n",
      " 7   X7      6124 non-null   int64  \n",
      " 8   X8      6124 non-null   int64  \n",
      " 9   X9      6124 non-null   int64  \n",
      " 10  X11     6124 non-null   float64\n",
      " 11  X12     6124 non-null   int64  \n",
      " 12  X15     601 non-null    object \n",
      " 13  X13     6124 non-null   object \n",
      " 14  X14     6124 non-null   object \n",
      " 15  Y       6124 non-null   object \n",
      "dtypes: float64(2), int64(10), object(4)\n",
      "memory usage: 765.6+ KB\n"
     ]
    },
    {
     "data": {
      "text/plain": [
       "None"
      ]
     },
     "metadata": {},
     "output_type": "display_data"
    }
   ],
   "source": [
    "dataset = pd.read_csv('Dataset-vf.csv')\n",
    "display(dataset.info())"
   ]
  },
  {
   "cell_type": "code",
   "execution_count": 4,
   "metadata": {},
   "outputs": [
    {
     "data": {
      "image/png": "[encoded data removed]",
      "text/plain": [
       "<Figure size 720x576 with 2 Axes>"
      ]
     },
     "metadata": {
      "needs_background": "light"
     },
     "output_type": "display_data"
    },
    {
     "name": "stdout",
     "output_type": "stream",
     "text": [
      "Top 5 correlated columns with 'Y':\n",
      "\n",
      "Feature: X6, Correlation: 16%\n",
      "Feature: X1, Correlation: 8%\n",
      "Feature: X9, Correlation: 7%\n",
      "Feature: X10, Correlation: 6%\n",
      "Feature: X7, Correlation: 6%\n"
     ]
    }
   ],
   "source": [
    "# Only analysis view, next cells will start from the begining.\n",
    "df = dataset.copy()\n",
    "\n",
    "car_map = {car: i for i, car in enumerate(np.unique(df['Y']))}\n",
    "df.replace(car_map, inplace=True)\n",
    "\n",
    "# Only use numerical columns for viewing purposes \n",
    "numerical_cols = df.select_dtypes(include=['int64', 'float64']).columns\n",
    "df = df[numerical_cols]\n",
    "\n",
    "correlation_matrix = df.corr()\n",
    "\n",
    "# Plot the correlation matrix\n",
    "plt.figure(figsize=(10, 8))\n",
    "sns.heatmap(correlation_matrix, annot=False, cmap='coolwarm')\n",
    "plt.title('Correlation Matrix of features and Y')\n",
    "plt.show()\n",
    "\n",
    "top_correlated_columns = correlation_matrix.abs()['Y'].sort_values(ascending=False).head(6)\n",
    "print(\"Top 5 correlated columns with 'Y':\\n\")\n",
    "print(*(f\"Feature: {feature}, Correlation: {correlation:.0%}\" for feature, correlation in zip(top_correlated_columns.index, top_correlated_columns) if feature != 'Y'), sep=\"\\n\")"
   ]
  },
  {
   "cell_type": "code",
   "execution_count": 5,
   "metadata": {},
   "outputs": [
    {
     "data": {
      "text/html": [
       "<div>\n",
       "<style scoped>\n",
       "    .dataframe tbody tr th:only-of-type {\n",
       "        vertical-align: middle;\n",
       "    }\n",
       "\n",
       "    .dataframe tbody tr th {\n",
       "        vertical-align: top;\n",
       "    }\n",
       "\n",
       "    .dataframe thead th {\n",
       "        text-align: right;\n",
       "    }\n",
       "</style>\n",
       "<table border=\"1\" class=\"dataframe\">\n",
       "  <thead>\n",
       "    <tr style=\"text-align: right;\">\n",
       "      <th></th>\n",
       "      <th>X5</th>\n",
       "      <th>X2</th>\n",
       "      <th>X3</th>\n",
       "      <th>X4</th>\n",
       "      <th>X6</th>\n",
       "      <th>X1</th>\n",
       "      <th>X10</th>\n",
       "      <th>X7</th>\n",
       "      <th>X8</th>\n",
       "      <th>X9</th>\n",
       "      <th>X11</th>\n",
       "      <th>X12</th>\n",
       "      <th>Y</th>\n",
       "    </tr>\n",
       "  </thead>\n",
       "  <tbody>\n",
       "    <tr>\n",
       "      <th>0</th>\n",
       "      <td>43</td>\n",
       "      <td>59.0</td>\n",
       "      <td>11</td>\n",
       "      <td>120</td>\n",
       "      <td>150</td>\n",
       "      <td>2709</td>\n",
       "      <td>2114</td>\n",
       "      <td>228</td>\n",
       "      <td>217</td>\n",
       "      <td>120</td>\n",
       "      <td>0.66</td>\n",
       "      <td>269</td>\n",
       "      <td>0</td>\n",
       "    </tr>\n",
       "    <tr>\n",
       "      <th>1</th>\n",
       "      <td>0</td>\n",
       "      <td>54.0</td>\n",
       "      <td>7</td>\n",
       "      <td>0</td>\n",
       "      <td>693</td>\n",
       "      <td>2802</td>\n",
       "      <td>162</td>\n",
       "      <td>224</td>\n",
       "      <td>225</td>\n",
       "      <td>136</td>\n",
       "      <td>0.35</td>\n",
       "      <td>195</td>\n",
       "      <td>0</td>\n",
       "    </tr>\n",
       "    <tr>\n",
       "      <th>2</th>\n",
       "      <td>0</td>\n",
       "      <td>28.0</td>\n",
       "      <td>12</td>\n",
       "      <td>0</td>\n",
       "      <td>1260</td>\n",
       "      <td>2325</td>\n",
       "      <td>162</td>\n",
       "      <td>215</td>\n",
       "      <td>213</td>\n",
       "      <td>133</td>\n",
       "      <td>0.89</td>\n",
       "      <td>750</td>\n",
       "      <td>4</td>\n",
       "    </tr>\n",
       "    <tr>\n",
       "      <th>3</th>\n",
       "      <td>16</td>\n",
       "      <td>112.0</td>\n",
       "      <td>8</td>\n",
       "      <td>272</td>\n",
       "      <td>3649</td>\n",
       "      <td>2837</td>\n",
       "      <td>6221</td>\n",
       "      <td>235</td>\n",
       "      <td>231</td>\n",
       "      <td>128</td>\n",
       "      <td>0.27</td>\n",
       "      <td>-155</td>\n",
       "      <td>1</td>\n",
       "    </tr>\n",
       "    <tr>\n",
       "      <th>4</th>\n",
       "      <td>10</td>\n",
       "      <td>59.0</td>\n",
       "      <td>7</td>\n",
       "      <td>134</td>\n",
       "      <td>900</td>\n",
       "      <td>2509</td>\n",
       "      <td>5184</td>\n",
       "      <td>226</td>\n",
       "      <td>226</td>\n",
       "      <td>134</td>\n",
       "      <td>0.93</td>\n",
       "      <td>88</td>\n",
       "      <td>0</td>\n",
       "    </tr>\n",
       "  </tbody>\n",
       "</table>\n",
       "</div>"
      ],
      "text/plain": [
       "   X5     X2  X3   X4    X6    X1   X10   X7   X8   X9   X11  X12  Y\n",
       "0  43   59.0  11  120   150  2709  2114  228  217  120  0.66  269  0\n",
       "1   0   54.0   7    0   693  2802   162  224  225  136  0.35  195  0\n",
       "2   0   28.0  12    0  1260  2325   162  215  213  133  0.89  750  4\n",
       "3  16  112.0   8  272  3649  2837  6221  235  231  128  0.27 -155  1\n",
       "4  10   59.0   7  134   900  2509  5184  226  226  134  0.93   88  0"
      ]
     },
     "metadata": {},
     "output_type": "display_data"
    }
   ],
   "source": [
    "display(df.head())"
   ]
  },
  {
   "cell_type": "markdown",
   "metadata": {},
   "source": [
    "## Preprocessing"
   ]
  },
  {
   "cell_type": "markdown",
   "metadata": {},
   "source": [
    "Missing values:\n",
    "- For X2, the missing value percentage is around 10%, so we will fill it with the mean of the column.\n",
    "- For X15, only 10% of the data remain, so we will drop the column."
   ]
  },
  {
   "cell_type": "code",
   "execution_count": 6,
   "metadata": {},
   "outputs": [
    {
     "name": "stdout",
     "output_type": "stream",
     "text": [
      "Raw dataset shape: (6124, 16)\n"
     ]
    }
   ],
   "source": [
    "df = dataset.copy()\n",
    "print(f\"Raw dataset shape: {dataset.shape}\")\n",
    "\n",
    "# Handling NaN values\n",
    "\n",
    "## Undersample the whole dataset to match the imbalanced columns\n",
    "# df.dropna(inplace=True)\n",
    "\n",
    "## Upsample the imbalanced columns to match the others.\n",
    "# df['X2'].fillna(df['X2'].mean(), inplace=True)\n",
    "# df['X15'].fillna(df['X15'].mod(), inplace=True)\n",
    "\n",
    "## Hybrid (upsample and remove a column based on the amount of real data)\n",
    "df['X2'].fillna(df['X2'].mean(), inplace=True)\n",
    "df.drop(columns=['X15'], inplace=True)"
   ]
  },
  {
   "cell_type": "markdown",
   "metadata": {},
   "source": [
    "1. Feature Transformation\n",
    "    - Scaling the Data.\n",
    "    - One Hot Encoding Categorical variables."
   ]
  },
  {
   "cell_type": "code",
   "execution_count": 7,
   "metadata": {},
   "outputs": [],
   "source": [
    "# Applying Scaler\n",
    "scaler = StandardScaler()\n",
    "df.iloc[:,:12] = scaler.fit_transform(df.iloc[:,:12])\n",
    "\n",
    "\n",
    "# Number labeling output\n",
    "car_map = {car: i for i, car in enumerate(np.unique(df['Y']))}\n",
    "df.replace(car_map, inplace=True)\n",
    "\n",
    "# One hot encode\n",
    "encoder = OneHotEncoder(sparse_output=False)\n",
    "categorical_columns = df.select_dtypes(include=['object']).columns\n",
    "\n",
    "encoded_data = encoder.fit_transform(df[categorical_columns])\n",
    "df.drop(columns=categorical_columns, inplace=True) # Drop the categorical columns to replace them with encoded columns\n",
    "df[encoder.get_feature_names_out()] = encoded_data\n",
    "\n",
    "# Reorder so Y is the last index\n",
    "columns = df.columns.drop('Y').tolist()\n",
    "columns.append('Y')\n",
    "df = df[columns]"
   ]
  },
  {
   "cell_type": "markdown",
   "metadata": {},
   "source": [
    "2. Feature Selection\n",
    "    - RFE using RandomForestClassifier to get the most important features."
   ]
  },
  {
   "cell_type": "code",
   "execution_count": 8,
   "metadata": {},
   "outputs": [
    {
     "name": "stdout",
     "output_type": "stream",
     "text": [
      "X shape: (6124, 48), y shape: (6124,)\n"
     ]
    }
   ],
   "source": [
    "# Feature Selection\n",
    "X = df.iloc[:,:-1].copy()\n",
    "y =  df.iloc[:,-1].copy()\n",
    "print(f\"X shape: {X.shape}, y shape: {y.shape}\")\n",
    "\n",
    "# # Assuming X is your features and y is your target variable\n",
    "# estimator = RandomForestClassifier(n_estimators=50)\n",
    "# selector = RFE(estimator, n_features_to_select=25, step=2)\n",
    "# selector = selector.fit(X, y)\n",
    "# selected_features = X.columns[selector.support_]\n",
    "# X = X[selected_features]\n",
    "\n",
    "# print(\"After Feature Selection:\")\n",
    "# print(f\"X shape: {X.shape}, y shape: {y.shape}\")"
   ]
  },
  {
   "cell_type": "markdown",
   "metadata": {},
   "source": [
    "3. Feature Engineering\n",
    "    - Exteding the data using polynomial features"
   ]
  },
  {
   "cell_type": "code",
   "execution_count": 9,
   "metadata": {},
   "outputs": [
    {
     "name": "stdout",
     "output_type": "stream",
     "text": [
      "After polynomial expansion:\n",
      "X shape: (6124, 49), y shape: (6124,)\n"
     ]
    }
   ],
   "source": [
    "poly = PolynomialFeatures(degree=1)\n",
    "X = poly.fit_transform(X)\n",
    "print(\"After polynomial expansion:\")\n",
    "print(f\"X shape: {X.shape}, y shape: {y.shape}\")"
   ]
  },
  {
   "cell_type": "code",
   "execution_count": 10,
   "metadata": {},
   "outputs": [
    {
     "name": "stdout",
     "output_type": "stream",
     "text": [
      "Train:\n",
      "\tX shape: (4286, 49)\t y shape: (4286,))\n",
      "Validation:\n",
      "\tX shape: (919, 49)\t y shape: (919,))\n",
      "Test:\n",
      "\tX shape: (919, 49)\t y shape: (919,))\n"
     ]
    }
   ],
   "source": [
    "# First, split into train and temp sets\n",
    "X_train, X_temp, y_train, y_temp = train_test_split(X, y, train_size=0.7)\n",
    "X_valid, X_test, y_valid, y_test = train_test_split(X_temp, y_temp, train_size=0.5)\n",
    "\n",
    "print(f\"Train:\")\n",
    "print(f\"\\tX shape: {X_train.shape}\\t y shape: {y_train.shape})\")\n",
    "print(f\"Validation:\")\n",
    "print(f\"\\tX shape: {X_valid.shape}\\t y shape: {y_valid.shape})\")\n",
    "print(f\"Test:\")\n",
    "print(f\"\\tX shape: {X_test.shape}\\t y shape: {y_test.shape})\")"
   ]
  },
  {
   "cell_type": "markdown",
   "metadata": {},
   "source": [
    "#### Model Evaluation method"
   ]
  },
  {
   "cell_type": "code",
   "execution_count": 11,
   "metadata": {},
   "outputs": [],
   "source": [
    "def get_score(y_real, y_pred):\n",
    "\n",
    "    # Calculate evaluation metrics\n",
    "    f1_macro = f1_score(y_real, y_pred, average='macro') # F1 will be the main score because it encapsulates all other data.\n",
    "    precision = precision_score(y_real, y_pred, average='macro')\n",
    "    recall = recall_score(y_real, y_pred, average='macro')\n",
    "    conf_matrix = confusion_matrix(y_test, y_pred) \n",
    "    \n",
    "    return f1_macro, precision, recall, conf_matrix\n",
    "\n",
    "def show_results(model, X, y):\n",
    "    \n",
    "    f1, precision, recall, conf_matrix = get_score(y, model.predict(X))\n",
    "    \n",
    "    print(\"Statistics:\")\n",
    "    print(f\"\\tF1-Score: {f1:.2%}\")\n",
    "    print(f\"\\tPrecision: {precision:.2%}, \\tRecall: {recall:.2%}\")\n",
    "    print()\n",
    "\n",
    "    # Create a confusion matrix heatmap\n",
    "    plt.figure(figsize=(8, 6))\n",
    "    sns.set(font_scale=1.2)\n",
    "    classes = car_map.keys()\n",
    "    sns.heatmap(conf_matrix, annot=True, fmt='d', cmap='Blues', xticklabels=classes, yticklabels=classes)\n",
    "    plt.xlabel('Predicted Labels')\n",
    "    plt.ylabel('True Labels')\n",
    "    plt.title('Confusion Matrix')\n",
    "    plt.show()"
   ]
  },
  {
   "cell_type": "markdown",
   "metadata": {},
   "source": [
    "## Models"
   ]
  },
  {
   "cell_type": "markdown",
   "metadata": {},
   "source": [
    "- no polynomial features, only taking 15 best features according to RFE, best F-1 = 87.69\n",
    "- Polynomial features only enhanced the F-1 score by 0.1%, so it is not effective.\n",
    "- Using all of the data (not using feature selection) increased the F-1 to 90.02"
   ]
  },
  {
   "cell_type": "markdown",
   "metadata": {},
   "source": [
    "KNN (Abdulmohsen)"
   ]
  },
  {
   "cell_type": "code",
   "execution_count": 12,
   "metadata": {},
   "outputs": [
    {
     "name": "stdout",
     "output_type": "stream",
     "text": [
      "K-1\tF1: 80.94%\n",
      "K-3\tF1: 83.10%\n",
      "K-5\tF1: 81.28%\n",
      "K-7\tF1: 80.18%\n",
      "K-9\tF1: 78.10%\n",
      "K-11\tF1: 76.04%\n",
      "K-13\tF1: 74.04%\n",
      "K-15\tF1: 73.35%\n",
      "K-17\tF1: 71.91%\n",
      "K-19\tF1: 70.54%\n",
      "K-21\tF1: 67.23%\n",
      "K-23\tF1: 65.65%\n",
      "K-25\tF1: 65.15%\n",
      "K-27\tF1: 68.03%\n",
      "K-29\tF1: 67.34%\n"
     ]
    }
   ],
   "source": [
    "from sklearn.neighbors import KNeighborsClassifier\n",
    "\n",
    "# Hyperparam search\n",
    "for k in range(1, 30, 2):\n",
    "    \n",
    "    knn = KNeighborsClassifier(n_neighbors=k)\n",
    "    knn.fit(X_train, y_train)\n",
    "    score = f1_score(y_valid, knn.predict(X_valid), average='macro')\n",
    "    print(f\"K-{k}\\tF1: {score:.2%}\")"
   ]
  },
  {
   "cell_type": "code",
   "execution_count": 13,
   "metadata": {},
   "outputs": [
    {
     "name": "stdout",
     "output_type": "stream",
     "text": [
      "Validation F1-Score: 81.03%\n"
     ]
    }
   ],
   "source": [
    "knn = KNeighborsClassifier(n_neighbors=7)\n",
    "knn.fit(X_train, y_train)\n",
    "\n",
    "# Predictions and accuracy for KNN\n",
    "y_pred = knn.predict(X_test)\n",
    "\n",
    "f1, precision, recall, conf_matrix = get_score(y_test, y_pred)\n",
    "\n",
    "print(f\"Validation F1-Score: {f1:.2%}\")"
   ]
  },
  {
   "cell_type": "markdown",
   "metadata": {},
   "source": [
    "RandomForestClassifier (Abdulmohsen)"
   ]
  },
  {
   "cell_type": "code",
   "execution_count": 14,
   "metadata": {},
   "outputs": [
    {
     "name": "stdout",
     "output_type": "stream",
     "text": [
      "Loss: gini\n",
      "\tMax Depth: 10\n",
      "\t\tF1: 88.36%\n",
      "\tMax Depth: 20\n",
      "\t\tF1: 89.22%\n",
      "\tMax Depth: 30\n",
      "\t\tF1: 90.23%\n",
      "\tMax Depth: 40\n",
      "\t\tF1: 90.23%\n",
      "Loss: entropy\n",
      "\tMax Depth: 10\n",
      "\t\tF1: 88.60%\n",
      "\tMax Depth: 20\n",
      "\t\tF1: 90.42%\n",
      "\tMax Depth: 30\n",
      "\t\tF1: 91.17%\n",
      "\tMax Depth: 40\n",
      "\t\tF1: 91.17%\n",
      "Loss: log_loss\n",
      "\tMax Depth: 10\n",
      "\t\tF1: 88.60%\n",
      "\tMax Depth: 20\n",
      "\t\tF1: 90.42%\n",
      "\tMax Depth: 30\n",
      "\t\tF1: 91.17%\n",
      "\tMax Depth: 40\n",
      "\t\tF1: 91.17%\n"
     ]
    }
   ],
   "source": [
    "# Hyperparam search\n",
    "\n",
    "# After broad examination, the best n_estimators was found to be 100 (default)\n",
    "# Best loss is entropy\n",
    "# Best max depth is 30 (default)\n",
    "for loss in ['gini', 'entropy', 'log_loss']:\n",
    "    print(\"Loss:\", loss)\n",
    "    for max_depth in range(10, 50, 10):\n",
    "        print(\"\\tMax Depth:\", max_depth)\n",
    "    \n",
    "        rf = RandomForestClassifier(criterion=loss, max_depth=max_depth, min_samples_split=2, min_samples_leaf=2, random_state=4444)\n",
    "        rf.fit(X_train, y_train)\n",
    "        score = f1_score(y_valid, rf.predict(X_valid), average='macro')\n",
    "        print(f\"\\t\\tF1: {score:.2%}\")\n",
    "\n",
    "   "
   ]
  },
  {
   "cell_type": "code",
   "execution_count": 15,
   "metadata": {},
   "outputs": [
    {
     "name": "stdout",
     "output_type": "stream",
     "text": [
      "Validation F1-Score: 90.23%\n"
     ]
    }
   ],
   "source": [
    "# Random Forest Classifier\n",
    "rf = RandomForestClassifier(min_samples_split=2, min_samples_leaf=2, random_state=4444)\n",
    "rf.fit(X_train, y_train)\n",
    "\n",
    "y_pred = rf.predict(X_valid)\n",
    "\n",
    "f1, precision, recall, conf_matrix = get_score(y_valid, y_pred)\n",
    "\n",
    "print(f\"Validation F1-Score: {f1:.2%}\")"
   ]
  },
  {
   "cell_type": "markdown",
   "metadata": {},
   "source": [
    "---"
   ]
  },
  {
   "cell_type": "markdown",
   "metadata": {},
   "source": [
    "## Model Testing"
   ]
  },
  {
   "cell_type": "code",
   "execution_count": 16,
   "metadata": {},
   "outputs": [
    {
     "name": "stdout",
     "output_type": "stream",
     "text": [
      "Best model is: <class 'sklearn.ensemble._forest.RandomForestClassifier'> with validation score of: 90.23%\n",
      "Testing the model on test data...\n",
      "Statistics:\n",
      "\tF1-Score: 87.51%\n",
      "\tPrecision: 91.59%, \tRecall: 85.34%\n",
      "\n"
     ]
    },
    {
     "data": {
      "image/png": "[encoded data removed]",
      "text/plain": [
       "<Figure size 576x432 with 2 Axes>"
      ]
     },
     "metadata": {
      "needs_background": "light"
     },
     "output_type": "display_data"
    }
   ],
   "source": [
    "models = [knn, rf]\n",
    "\n",
    "best_score = 0\n",
    "best_model = None\n",
    "\n",
    "for model in models:\n",
    "    score = get_score(y_valid, model.predict(X_valid))[0]\n",
    "    if score > best_score:\n",
    "        best_score = score\n",
    "        best_model = model\n",
    "\n",
    "print(f\"Best model is: {type(model)} with validation score of: {best_score:.2%}\")\n",
    "print(\"Testing the model on test data...\")\n",
    "show_results(model, X_test, y_test)"
   ]
  },
  {
   "cell_type": "markdown",
   "metadata": {},
   "source": [
    "# Part B"
   ]
  },
  {
   "cell_type": "markdown",
   "metadata": {},
   "source": [
    "Least confidence (Abdulmohsen)"
   ]
  },
  {
   "cell_type": "code",
   "execution_count": 17,
   "metadata": {
    "scrolled": true
   },
   "outputs": [
    {
     "name": "stderr",
     "output_type": "stream",
     "text": [
      "C:\\Users\\Faisal\\Anaconda3\\lib\\site-packages\\sklearn\\metrics\\_classification.py:1471: UndefinedMetricWarning: Precision is ill-defined and being set to 0.0 in labels with no predicted samples. Use `zero_division` parameter to control this behavior.\n",
      "  _warn_prf(average, modifier, msg_start, len(result))\n"
     ]
    },
    {
     "name": "stdout",
     "output_type": "stream",
     "text": [
      "Dataset size: 101 samples\n",
      "F1: 57.39%\n"
     ]
    },
    {
     "name": "stderr",
     "output_type": "stream",
     "text": [
      "C:\\Users\\Faisal\\Anaconda3\\lib\\site-packages\\sklearn\\metrics\\_classification.py:1471: UndefinedMetricWarning: Precision is ill-defined and being set to 0.0 in labels with no predicted samples. Use `zero_division` parameter to control this behavior.\n",
      "  _warn_prf(average, modifier, msg_start, len(result))\n"
     ]
    },
    {
     "name": "stdout",
     "output_type": "stream",
     "text": [
      "Dataset size: 111 samples\n",
      "F1: 60.33%\n"
     ]
    },
    {
     "name": "stderr",
     "output_type": "stream",
     "text": [
      "C:\\Users\\Faisal\\Anaconda3\\lib\\site-packages\\sklearn\\metrics\\_classification.py:1471: UndefinedMetricWarning: Precision is ill-defined and being set to 0.0 in labels with no predicted samples. Use `zero_division` parameter to control this behavior.\n",
      "  _warn_prf(average, modifier, msg_start, len(result))\n"
     ]
    },
    {
     "name": "stdout",
     "output_type": "stream",
     "text": [
      "Dataset size: 121 samples\n",
      "F1: 61.48%\n"
     ]
    },
    {
     "name": "stderr",
     "output_type": "stream",
     "text": [
      "C:\\Users\\Faisal\\Anaconda3\\lib\\site-packages\\sklearn\\metrics\\_classification.py:1471: UndefinedMetricWarning: Precision is ill-defined and being set to 0.0 in labels with no predicted samples. Use `zero_division` parameter to control this behavior.\n",
      "  _warn_prf(average, modifier, msg_start, len(result))\n"
     ]
    },
    {
     "name": "stdout",
     "output_type": "stream",
     "text": [
      "Dataset size: 131 samples\n",
      "F1: 58.62%\n",
      "Dataset size: 141 samples\n",
      "F1: 62.70%\n",
      "Dataset size: 151 samples\n",
      "F1: 64.27%\n",
      "Dataset size: 161 samples\n",
      "F1: 72.65%\n",
      "Dataset size: 171 samples\n",
      "F1: 71.79%\n",
      "Dataset size: 181 samples\n",
      "F1: 74.18%\n",
      "Dataset size: 191 samples\n",
      "F1: 72.41%\n",
      "Dataset size: 201 samples\n",
      "F1: 70.28%\n",
      "Dataset size: 211 samples\n",
      "F1: 73.74%\n",
      "Dataset size: 221 samples\n",
      "F1: 73.91%\n",
      "Dataset size: 231 samples\n",
      "F1: 74.48%\n",
      "Dataset size: 241 samples\n",
      "F1: 74.95%\n",
      "Dataset size: 251 samples\n",
      "F1: 74.41%\n",
      "Dataset size: 261 samples\n",
      "F1: 74.71%\n",
      "Dataset size: 271 samples\n",
      "F1: 73.50%\n",
      "Dataset size: 281 samples\n",
      "F1: 75.37%\n",
      "Dataset size: 291 samples\n",
      "F1: 75.04%\n",
      "Dataset size: 301 samples\n",
      "F1: 76.35%\n",
      "Dataset size: 311 samples\n",
      "F1: 75.32%\n",
      "Dataset size: 321 samples\n",
      "F1: 75.42%\n",
      "Dataset size: 331 samples\n",
      "F1: 77.76%\n",
      "Dataset size: 341 samples\n",
      "F1: 77.93%\n",
      "Dataset size: 351 samples\n",
      "F1: 80.77%\n",
      "Dataset size: 361 samples\n",
      "F1: 81.27%\n",
      "Dataset size: 371 samples\n",
      "F1: 81.01%\n",
      "Dataset size: 381 samples\n",
      "F1: 81.57%\n",
      "Dataset size: 391 samples\n",
      "F1: 81.19%\n",
      "Dataset size: 401 samples\n",
      "F1: 82.46%\n",
      "Dataset size: 411 samples\n",
      "F1: 81.78%\n",
      "Dataset size: 421 samples\n",
      "F1: 82.97%\n",
      "Dataset size: 431 samples\n",
      "F1: 82.96%\n",
      "Dataset size: 441 samples\n",
      "F1: 84.73%\n",
      "Dataset size: 451 samples\n",
      "F1: 84.47%\n",
      "Dataset size: 461 samples\n",
      "F1: 85.25%\n",
      "Dataset size: 471 samples\n",
      "F1: 84.25%\n",
      "Dataset size: 481 samples\n",
      "F1: 85.25%\n",
      "Dataset size: 491 samples\n",
      "F1: 82.70%\n",
      "Dataset size: 501 samples\n",
      "F1: 85.65%\n",
      "Dataset size: 511 samples\n",
      "F1: 85.89%\n",
      "Dataset size: 521 samples\n",
      "F1: 85.90%\n",
      "Dataset size: 531 samples\n",
      "F1: 86.91%\n",
      "Dataset size: 541 samples\n",
      "F1: 85.91%\n",
      "Dataset size: 551 samples\n",
      "F1: 85.58%\n",
      "Dataset size: 561 samples\n",
      "F1: 86.52%\n",
      "Dataset size: 571 samples\n",
      "F1: 87.23%\n",
      "Dataset size: 581 samples\n",
      "F1: 86.03%\n",
      "Dataset size: 591 samples\n",
      "F1: 86.09%\n",
      "Dataset size: 601 samples\n",
      "F1: 87.00%\n",
      "Dataset size: 611 samples\n",
      "F1: 87.40%\n",
      "Dataset size: 621 samples\n",
      "F1: 87.13%\n",
      "Dataset size: 631 samples\n",
      "F1: 86.96%\n",
      "Dataset size: 641 samples\n",
      "F1: 87.85%\n",
      "Dataset size: 651 samples\n",
      "F1: 87.47%\n",
      "Dataset size: 661 samples\n",
      "F1: 88.07%\n",
      "Dataset size: 671 samples\n",
      "F1: 89.90%\n",
      "Dataset size: 681 samples\n",
      "F1: 87.71%\n",
      "Dataset size: 691 samples\n",
      "F1: 89.51%\n",
      "Dataset size: 701 samples\n",
      "F1: 88.26%\n",
      "Dataset size: 711 samples\n",
      "F1: 88.15%\n",
      "Dataset size: 721 samples\n",
      "F1: 88.15%\n",
      "Dataset size: 731 samples\n",
      "F1: 89.92%\n",
      "Dataset size: 741 samples\n",
      "F1: 89.53%\n",
      "Dataset size: 751 samples\n",
      "F1: 88.49%\n",
      "Dataset size: 761 samples\n",
      "F1: 89.43%\n",
      "Dataset size: 771 samples\n",
      "F1: 89.67%\n",
      "Dataset size: 781 samples\n",
      "F1: 88.54%\n",
      "Dataset size: 791 samples\n",
      "F1: 89.21%\n",
      "Dataset size: 801 samples\n",
      "F1: 89.29%\n",
      "Dataset size: 811 samples\n",
      "F1: 89.95%\n",
      "Dataset size: 821 samples\n",
      "F1: 89.98%\n",
      "Dataset size: 831 samples\n",
      "F1: 89.39%\n",
      "Dataset size: 841 samples\n",
      "F1: 89.60%\n",
      "Dataset size: 851 samples\n",
      "F1: 90.42%\n"
     ]
    }
   ],
   "source": [
    "# Generate a synthetic dataset for demonstration (replace with your own dataset)\n",
    "X_pool = X_train.copy()\n",
    "y_pool = np.array(y_train.copy())\n",
    "\n",
    "# Start with a small labeled dataset\n",
    "initial_indices = np.random.choice(range(len(X_pool)), size=100, replace=False)\n",
    "X_initial = X_pool[initial_indices]\n",
    "y_initial = y_pool[initial_indices]\n",
    "\n",
    "# Remove the initial labeled set from the pool\n",
    "X_pool = np.delete(X_pool, initial_indices, axis=0)\n",
    "y_pool = np.delete(y_pool, initial_indices, axis=0)\n",
    "\n",
    "rf = RandomForestClassifier(min_samples_split=2, min_samples_leaf=2, random_state=4444)\n",
    "scores = []\n",
    "\n",
    "# Active learning loop\n",
    "for iteration in range(1000):\n",
    "    rf.fit(X_initial, y_initial)\n",
    "\n",
    "    probs = rf.predict_proba(X_pool)\n",
    "    least_conf_idx = np.argmin(np.max(probs, axis=1)) # Takes the correctly predicted classes, then get the one with the least confidence\n",
    "\n",
    "    # Add the selected sample to the labeled set\n",
    "    X_initial = np.vstack((X_initial, X_pool[least_conf_idx].reshape(1, -1)))\n",
    "    y_initial = np.append(y_initial, y_pool[least_conf_idx])\n",
    "\n",
    "    # Update the pool\n",
    "    X_pool = np.delete(X_pool, least_conf_idx, axis=0)\n",
    "    y_pool = np.delete(y_pool, least_conf_idx)\n",
    "\n",
    "    # Test the procedure every 10 timesteps.\n",
    "    if not iteration % 10:\n",
    "        y_pred = rf.predict(X_valid)\n",
    "        f1 = get_score(y_valid, y_pred)[0]\n",
    "        scores.append(f1 * 100)\n",
    "        print(f\"Dataset size: {X_initial.shape[0]} samples\")\n",
    "        print(f\"F1: {f1:.2%}\")\n",
    "        if f1 >= best_score:\n",
    "            break"
   ]
  },
  {
   "cell_type": "code",
   "execution_count": 18,
   "metadata": {
    "scrolled": true
   },
   "outputs": [
    {
     "name": "stdout",
     "output_type": "stream",
     "text": [
      "Before Active learning:\n",
      "\tDataset size: 4286 samples.\n",
      "\tTest F-1 Score: 87.51%\n",
      "After Active learning:\n",
      "\tDataset size: 851 samples.\n",
      "\tTest F-1 Score: 85.48%\n",
      "Dataset size ratio (Active/Standard): 0.20\n"
     ]
    },
    {
     "data": {
      "image/png": "[encoded data removed]",
      "text/plain": [
       "<Figure size 720x432 with 1 Axes>"
      ]
     },
     "metadata": {},
     "output_type": "display_data"
    }
   ],
   "source": [
    "rf = RandomForestClassifier(min_samples_split=2, min_samples_leaf=2, random_state=4444)\n",
    "\n",
    "rf.fit(X_train, y_train)\n",
    "f1_standard = get_score(y_test, rf.predict(X_test))[0]\n",
    "\n",
    "rf.fit(X_initial, y_initial)\n",
    "f1_active = get_score(y_test, rf.predict(X_test))[0]\n",
    "\n",
    "print(\"Before Active learning:\")\n",
    "print(f\"\\tDataset size: {X_train.shape[0]} samples.\")\n",
    "print(f\"\\tTest F-1 Score: {f1_standard:.2%}\")\n",
    "\n",
    "print(\"After Active learning:\")\n",
    "print(f\"\\tDataset size: {X_initial.shape[0]} samples.\")\n",
    "print(f\"\\tTest F-1 Score: {f1_active:.2%}\")\n",
    "\n",
    "print(f\"Dataset size ratio (Active/Standard): {X_initial.shape[0]/X_train.shape[0]:.2f}\")\n",
    "\n",
    "iterations = [i * 10 for i in range(len(scores))]\n",
    "data = pd.DataFrame({'Iterations': iterations, 'Score': scores})\n",
    "\n",
    "plt.figure(figsize=(10, 6))\n",
    "sns.lineplot(x='Iterations', y='Score', data=data, marker='o', label='Scores with Active learning')\n",
    "plt.axhline(y=best_score * 100, color='r', linestyle='--', label='Best Score without Active Learning')\n",
    "\n",
    "plt.xlabel('Iterations')\n",
    "plt.ylabel('Score')\n",
    "plt.title('Active learning F-1 Score overtime.')\n",
    "plt.legend()\n",
    "plt.show()"
   ]
  },
  {
   "cell_type": "code",
   "execution_count": 21,
   "metadata": {
    "scrolled": true
   },
   "outputs": [
    {
     "name": "stdout",
     "output_type": "stream",
     "text": [
      "Iteration 0: Dataset size: 101, F1 Score: 57.06%\n",
      "Iteration 10: Dataset size: 111, F1 Score: 57.39%\n",
      "Iteration 20: Dataset size: 121, F1 Score: 61.02%\n",
      "Iteration 30: Dataset size: 131, F1 Score: 58.11%\n",
      "Iteration 40: Dataset size: 141, F1 Score: 59.19%\n",
      "Iteration 50: Dataset size: 151, F1 Score: 59.17%\n",
      "Iteration 60: Dataset size: 161, F1 Score: 60.23%\n",
      "Iteration 70: Dataset size: 171, F1 Score: 66.86%\n",
      "Iteration 80: Dataset size: 181, F1 Score: 67.13%\n",
      "Iteration 90: Dataset size: 191, F1 Score: 68.39%\n",
      "Iteration 100: Dataset size: 201, F1 Score: 69.82%\n",
      "Iteration 110: Dataset size: 211, F1 Score: 69.61%\n",
      "Iteration 120: Dataset size: 221, F1 Score: 72.22%\n",
      "Iteration 130: Dataset size: 231, F1 Score: 72.64%\n",
      "Iteration 140: Dataset size: 241, F1 Score: 75.72%\n",
      "Iteration 150: Dataset size: 251, F1 Score: 74.15%\n",
      "Iteration 160: Dataset size: 261, F1 Score: 71.27%\n",
      "Iteration 170: Dataset size: 271, F1 Score: 72.95%\n",
      "Iteration 180: Dataset size: 281, F1 Score: 73.67%\n",
      "Iteration 190: Dataset size: 291, F1 Score: 74.89%\n",
      "Iteration 200: Dataset size: 301, F1 Score: 77.74%\n",
      "Iteration 210: Dataset size: 311, F1 Score: 79.83%\n",
      "Iteration 220: Dataset size: 321, F1 Score: 78.96%\n",
      "Iteration 230: Dataset size: 331, F1 Score: 78.35%\n",
      "Iteration 240: Dataset size: 341, F1 Score: 78.30%\n",
      "Iteration 250: Dataset size: 351, F1 Score: 77.62%\n",
      "Iteration 260: Dataset size: 361, F1 Score: 77.12%\n",
      "Iteration 270: Dataset size: 371, F1 Score: 78.92%\n",
      "Iteration 280: Dataset size: 381, F1 Score: 79.11%\n",
      "Iteration 290: Dataset size: 391, F1 Score: 81.86%\n",
      "Iteration 300: Dataset size: 401, F1 Score: 81.86%\n",
      "Iteration 310: Dataset size: 411, F1 Score: 81.24%\n",
      "Iteration 320: Dataset size: 421, F1 Score: 81.34%\n",
      "Iteration 330: Dataset size: 431, F1 Score: 81.15%\n",
      "Iteration 340: Dataset size: 441, F1 Score: 80.72%\n",
      "Iteration 350: Dataset size: 451, F1 Score: 84.00%\n",
      "Iteration 360: Dataset size: 461, F1 Score: 80.04%\n",
      "Iteration 370: Dataset size: 471, F1 Score: 83.57%\n",
      "Iteration 380: Dataset size: 481, F1 Score: 83.67%\n",
      "Iteration 390: Dataset size: 491, F1 Score: 82.81%\n",
      "Iteration 400: Dataset size: 501, F1 Score: 82.27%\n",
      "Iteration 410: Dataset size: 511, F1 Score: 84.18%\n",
      "Iteration 420: Dataset size: 521, F1 Score: 82.86%\n",
      "Iteration 430: Dataset size: 531, F1 Score: 84.20%\n",
      "Iteration 440: Dataset size: 541, F1 Score: 82.66%\n",
      "Iteration 450: Dataset size: 551, F1 Score: 84.07%\n",
      "Iteration 460: Dataset size: 561, F1 Score: 84.69%\n",
      "Iteration 470: Dataset size: 571, F1 Score: 84.87%\n",
      "Iteration 480: Dataset size: 581, F1 Score: 84.28%\n",
      "Iteration 490: Dataset size: 591, F1 Score: 84.28%\n",
      "Iteration 500: Dataset size: 601, F1 Score: 84.54%\n",
      "Iteration 510: Dataset size: 611, F1 Score: 84.25%\n",
      "Iteration 520: Dataset size: 621, F1 Score: 85.73%\n",
      "Iteration 530: Dataset size: 631, F1 Score: 84.02%\n",
      "Iteration 540: Dataset size: 641, F1 Score: 84.15%\n",
      "Iteration 550: Dataset size: 651, F1 Score: 85.97%\n",
      "Iteration 560: Dataset size: 661, F1 Score: 85.42%\n",
      "Iteration 570: Dataset size: 671, F1 Score: 87.92%\n",
      "Iteration 580: Dataset size: 681, F1 Score: 86.68%\n",
      "Iteration 590: Dataset size: 691, F1 Score: 85.57%\n",
      "Iteration 600: Dataset size: 701, F1 Score: 86.57%\n",
      "Iteration 610: Dataset size: 711, F1 Score: 86.11%\n",
      "Iteration 620: Dataset size: 721, F1 Score: 85.25%\n",
      "Iteration 630: Dataset size: 731, F1 Score: 86.30%\n",
      "Iteration 640: Dataset size: 741, F1 Score: 86.18%\n",
      "Iteration 650: Dataset size: 751, F1 Score: 85.19%\n",
      "Iteration 660: Dataset size: 761, F1 Score: 86.20%\n",
      "Iteration 670: Dataset size: 771, F1 Score: 84.80%\n",
      "Iteration 680: Dataset size: 781, F1 Score: 86.36%\n",
      "Iteration 690: Dataset size: 791, F1 Score: 85.83%\n",
      "Iteration 700: Dataset size: 801, F1 Score: 87.49%\n",
      "Iteration 710: Dataset size: 811, F1 Score: 85.55%\n",
      "Iteration 720: Dataset size: 821, F1 Score: 87.32%\n",
      "Iteration 730: Dataset size: 831, F1 Score: 87.35%\n",
      "Iteration 740: Dataset size: 841, F1 Score: 86.57%\n",
      "Iteration 750: Dataset size: 851, F1 Score: 86.53%\n",
      "Iteration 760: Dataset size: 861, F1 Score: 87.11%\n",
      "Iteration 770: Dataset size: 871, F1 Score: 86.74%\n",
      "Iteration 780: Dataset size: 881, F1 Score: 87.17%\n",
      "Iteration 790: Dataset size: 891, F1 Score: 88.03%\n",
      "Iteration 800: Dataset size: 901, F1 Score: 86.95%\n",
      "Iteration 810: Dataset size: 911, F1 Score: 86.78%\n",
      "Iteration 820: Dataset size: 921, F1 Score: 86.67%\n",
      "Iteration 830: Dataset size: 931, F1 Score: 88.61%\n",
      "Iteration 840: Dataset size: 941, F1 Score: 86.56%\n",
      "Iteration 850: Dataset size: 951, F1 Score: 87.76%\n",
      "Iteration 860: Dataset size: 961, F1 Score: 88.62%\n",
      "Iteration 870: Dataset size: 971, F1 Score: 88.44%\n",
      "Iteration 880: Dataset size: 981, F1 Score: 87.82%\n",
      "Iteration 890: Dataset size: 991, F1 Score: 88.21%\n",
      "Iteration 900: Dataset size: 1001, F1 Score: 87.85%\n",
      "Iteration 910: Dataset size: 1011, F1 Score: 89.79%\n",
      "Iteration 920: Dataset size: 1021, F1 Score: 88.23%\n",
      "Iteration 930: Dataset size: 1031, F1 Score: 88.93%\n",
      "Iteration 940: Dataset size: 1041, F1 Score: 87.79%\n",
      "Iteration 950: Dataset size: 1051, F1 Score: 89.16%\n",
      "Iteration 960: Dataset size: 1061, F1 Score: 88.32%\n",
      "Iteration 970: Dataset size: 1071, F1 Score: 89.47%\n",
      "Iteration 980: Dataset size: 1081, F1 Score: 89.13%\n",
      "Iteration 990: Dataset size: 1091, F1 Score: 89.38%\n"
     ]
    }
   ],
   "source": [
    "import numpy as np\n",
    "from sklearn.ensemble import RandomForestClassifier\n",
    "from scipy.stats import entropy\n",
    "from sklearn.metrics import f1_score\n",
    "\n",
    "\n",
    "X_pool = np.array(X_train.copy())\n",
    "y_pool = np.array(y_train.copy())\n",
    "\n",
    "initial_indices = np.random.choice(range(len(X_pool)), size=100, replace=False)\n",
    "X_initial = X_pool[initial_indices]\n",
    "y_initial = y_pool[initial_indices]\n",
    "\n",
    "X_pool = np.delete(X_pool, initial_indices, axis=0)\n",
    "y_pool = np.delete(y_pool, initial_indices)\n",
    "\n",
    "rf = RandomForestClassifier(min_samples_split=2, min_samples_leaf=2, random_state=4444)\n",
    "scores = []\n",
    "\n",
    "def calculate_entropy(probs):\n",
    "    return entropy(probs.T) \n",
    "\n",
    "for iteration in range(1000):  \n",
    "    rf.fit(X_initial, y_initial)\n",
    "\n",
    "    probs = rf.predict_proba(X_pool)\n",
    "    entropy_values = calculate_entropy(probs)\n",
    "    highest_entropy_idx = np.argmax(entropy_values) \n",
    "\n",
    "    X_initial = np.vstack((X_initial, X_pool[highest_entropy_idx].reshape(1, -1)))\n",
    "    y_initial = np.append(y_initial, y_pool[highest_entropy_idx])\n",
    "\n",
    "    X_pool = np.delete(X_pool, highest_entropy_idx, axis=0)\n",
    "    y_pool = np.delete(y_pool, highest_entropy_idx)\n",
    "\n",
    "    if iteration % 10 == 0:\n",
    "        y_pred = rf.predict(X_valid)\n",
    "        f1 = f1_score(y_valid, y_pred, average='macro')\n",
    "        scores.append(f1)\n",
    "        print(f\"Iteration {iteration}: Dataset size: {X_initial.shape[0]}, F1 Score: {f1:.2%}\")\n"
   ]
  },
  {
   "cell_type": "code",
   "execution_count": 23,
   "metadata": {},
   "outputs": [
    {
     "name": "stdout",
     "output_type": "stream",
     "text": [
      "Before Active learning:\n",
      "\tDataset size: 4286 samples.\n",
      "\tTest F-1 Score: 87.51%\n",
      "After Active learning:\n",
      "\tDataset size: 1100 samples.\n",
      "\tTest F-1 Score: 84.43%\n",
      "Dataset size ratio (Active/Standard): 0.26\n"
     ]
    },
    {
     "data": {
      "image/png": "[encoded data removed]",
      "text/plain": [
       "<Figure size 720x432 with 1 Axes>"
      ]
     },
     "metadata": {},
     "output_type": "display_data"
    }
   ],
   "source": [
    "rf = RandomForestClassifier(min_samples_split=2, min_samples_leaf=2, random_state=4444)\n",
    "\n",
    "rf.fit(X_train, y_train)\n",
    "f1_standard = f1_score(y_test, rf.predict(X_test), average='macro')\n",
    "\n",
    "rf.fit(X_initial, y_initial)\n",
    "f1_active = f1_score(y_test, rf.predict(X_test), average='macro')\n",
    "\n",
    "print(\"Before Active learning:\")\n",
    "print(f\"\\tDataset size: {X_train.shape[0]} samples.\")\n",
    "print(f\"\\tTest F-1 Score: {f1_standard:.2%}\")\n",
    "\n",
    "print(\"After Active learning:\")\n",
    "print(f\"\\tDataset size: {X_initial.shape[0]} samples.\")\n",
    "print(f\"\\tTest F-1 Score: {f1_active:.2%}\")\n",
    "\n",
    "print(f\"Dataset size ratio (Active/Standard): {X_initial.shape[0]/X_train.shape[0]:.2f}\")\n",
    "\n",
    "iterations = [i * 10 for i in range(len(scores))]\n",
    "data = pd.DataFrame({'Iterations': iterations, 'Score': [score * 100 for score in scores]})  # Scale to percentage\n",
    "\n",
    "plt.figure(figsize=(10, 6))\n",
    "sns.lineplot(x='Iterations', y='Score', data=data, marker='o', label='Scores with Active learning')\n",
    "plt.axhline(y=best_score * 100, color='r', linestyle='--', label='Best Score without Active Learning')\n",
    "\n",
    "plt.xlabel('Iterations')\n",
    "plt.ylabel('F-1 Score (%)')\n",
    "plt.title('Active Learning F-1 Score Over Time')\n",
    "plt.legend()\n",
    "plt.show()\n"
   ]
  },
  {
   "cell_type": "code",
   "execution_count": null,
   "metadata": {},
   "outputs": [],
   "source": []
  }
 ],
 "metadata": {
  "kernelspec": {
   "display_name": "Python 3 (ipykernel)",
   "language": "python",
   "name": "python3"
  },
  "language_info": {
   "codemirror_mode": {
    "name": "ipython",
    "version": 3
   },
   "file_extension": ".py",
   "mimetype": "text/x-python",
   "name": "python",
   "nbconvert_exporter": "python",
   "pygments_lexer": "ipython3",
   "version": "3.9.7"
  }
 },
 "nbformat": 4,
 "nbformat_minor": 2
}
