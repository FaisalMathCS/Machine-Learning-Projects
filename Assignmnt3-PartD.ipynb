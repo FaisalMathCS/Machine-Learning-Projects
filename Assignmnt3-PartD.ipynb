{
 "cells": [
  {
   "cell_type": "markdown",
   "metadata": {},
   "source": [
    "## Multiclass Classification Using SVM\n",
    "In this assignment, you will perform multiclass classification using SVMs. You will use the SVM library from the ``sklearn`` library. Some of the important libraries you 'may' use include the following:\n",
    "\n",
    "**SVC from sklearn.svm**\n",
    "\n",
    "**classification_report from sklearn.metrics**\n",
    "\n",
    "**confusion_matrix from sklearn.metrics**\n",
    "\n",
    "You can consult the SVC documentation at: https://scikit-learn.org/stable/modules/generated/sklearn.svm.SVC.html"
   ]
  },
  {
   "cell_type": "markdown",
   "metadata": {},
   "source": [
    "## Data Set Information:\n",
    "\n",
    "The database consists of the multi-spectral values of pixels in 3x3 neighbourhoods in a satellite image, and the classification associated with the central pixel in each neighbourhood. The aim is to predict this classification, given the multi-spectral values. In the sample database, the class of a pixel is coded as a number.\n",
    "\n",
    "The Landsat satellite data is one of the many sources of information available for a scene. The interpretation of a scene by integrating spatial data of diverse types and resolutions including multispectral and radar data, maps indicating topography, land use etc. is expected to assume significant importance with the onset of an era characterised by integrative approaches to remote sensing (for example, NASA's Earth Observing System commencing this decade). Existing statistical methods are ill-equipped for handling such diverse data types. Note that this is not true for Landsat MSS data considered in isolation (as in this sample database). This data satisfies the important requirements of being numerical and at a single resolution, and standard maximum-likelihood classification performs very well. Consequently, for this data, it should be interesting to compare the performance of other methods against the statistical approach.\n",
    "\n",
    "One frame of Landsat MSS imagery consists of four digital images of the same scene in different spectral bands. Two of these are in the visible region (corresponding approximately to green and red regions of the visible spectrum) and two are in the (near) infra-red. Each pixel is a 8-bit binary word, with 0 corresponding to black and 255 to white. The spatial resolution of a pixel is about 80m x 80m. Each image contains 2340 x 3380 such pixels.\n",
    "\n",
    "The database is a (tiny) sub-area of a scene, consisting of 82 x 100 pixels. Each line of data corresponds to a 3x3 square neighbourhood of pixels completely contained within the 82x100 sub-area. Each line contains the pixel values in the four spectral bands (converted to ASCII) of each of the 9 pixels in the 3x3 neighbourhood and a number indicating the classification label of the central pixel. The number is a code for the following classes:\n",
    "\n",
    "Number Class\n",
    "\n",
    "1 red soil\n",
    "\n",
    "2 cotton crop\n",
    "\n",
    "3 grey soil\n",
    "\n",
    "4 damp grey soil\n",
    "\n",
    "5 soil with vegetation stubble\n",
    "\n",
    "6 mixture class (all types present)\n",
    "\n",
    "7 very damp grey soil\n",
    "\n",
    "NB. There are no examples with class 6 in this dataset.\n",
    "\n",
    "In each line of data the four spectral values for the top-left pixel are given first followed by the four spectral values for the top-middle pixel and then those for the top-right pixel, and so on with the pixels read out in sequence left-to-right and top-to-bottom. Thus, the four spectral values for the central pixel are given by attributes 17,18,19 and 20. If you like you can use only these four attributes, while ignoring the others. This avoids the problem which arises when a 3x3 neighbourhood straddles a boundary.\n",
    "\n",
    "\n",
    "https://archive.ics.uci.edu/ml/datasets/Statlog+(Landsat+Satellite)\n"
   ]
  },
  {
   "cell_type": "markdown",
   "metadata": {},
   "source": [
    "## 1. Import the data and split it into train/validate/test"
   ]
  },
  {
   "cell_type": "markdown",
   "metadata": {},
   "source": [
    "Import the file '186_satimage.csv' and split it into train/validate/test set with ratio ``70/15/15``\n",
    "\n",
    "**note: use random_state=777 whereever needed**\n",
    "\n",
    "**note: the first 36 column are features and the last column is the class label**\n"
   ]
  },
  {
   "cell_type": "code",
   "execution_count": 1,
   "metadata": {},
   "outputs": [
    {
     "name": "stdout",
     "output_type": "stream",
     "text": [
      "Training set shape: (4500, 36) (4500,)\n",
      "Validation set shape: (964, 36) (964,)\n",
      "Test set shape: (965, 36) (965,)\n"
     ]
    }
   ],
   "source": [
    "import pandas as pd\n",
    "from sklearn.model_selection import train_test_split\n",
    "\n",
    "# Load the dataset from the CSV file\n",
    "data = pd.read_csv('186_satimage.csv')\n",
    "\n",
    "# Extract features (first 36 columns) and labels (last column)\n",
    "X = data.iloc[:, :-1]\n",
    "y = data.iloc[:, -1]\n",
    "\n",
    "# Split the data into training (70%), validation (15%), and test (15%) sets\n",
    "X_train, X_temp, y_train, y_temp = train_test_split(X, y, test_size=0.3, random_state=777)\n",
    "X_val, X_test, y_val, y_test = train_test_split(X_temp, y_temp, test_size=0.5, random_state=777)\n",
    "\n",
    "# Print the shapes of the datasets to verify the split\n",
    "print(\"Training set shape:\", X_train.shape, y_train.shape)\n",
    "print(\"Validation set shape:\", X_val.shape, y_val.shape)\n",
    "print(\"Test set shape:\", X_test.shape, y_test.shape)\n"
   ]
  },
  {
   "cell_type": "markdown",
   "metadata": {},
   "source": [
    "## 2. Check the details of the features and labels"
   ]
  },
  {
   "cell_type": "markdown",
   "metadata": {},
   "source": [
    "Check some basic statistics of the features and the label"
   ]
  },
  {
   "cell_type": "code",
   "execution_count": 2,
   "metadata": {},
   "outputs": [
    {
     "name": "stdout",
     "output_type": "stream",
     "text": [
      "Feature Statistics:\n",
      "          0.117596     1.241362     1.184036     0.815302    -0.158561  \\\n",
      "count  6429.000000  6429.000000  6429.000000  6429.000000  6429.000000   \n",
      "mean     -0.000864    -0.000941    -0.000787    -0.000399    -0.000838   \n",
      "std       0.999726     0.999902     0.999934     1.000222     0.999772   \n",
      "min      -2.234329    -2.473310    -2.780894    -2.624275    -2.223275   \n",
      "25%      -0.690878    -0.550421    -0.858503    -0.719279    -0.674739   \n",
      "50%      -0.102897     0.148811     0.102692    -0.084280    -0.084821   \n",
      "75%       0.779075     0.848043     0.823588     0.497802     0.800057   \n",
      "max       2.543020     2.333912     2.445605     3.778629     2.569812   \n",
      "\n",
      "          1.256483     1.193546     0.818486    -0.141965     0.879481  ...  \\\n",
      "count  6429.000000  6429.000000  6429.000000  6429.000000  6429.000000  ...   \n",
      "mean     -0.000982    -0.000797    -0.000460    -0.000745    -0.000916  ...   \n",
      "std       0.999913     0.999935     1.000245     0.999883     0.999921  ...   \n",
      "min      -2.457498    -2.947095    -2.824420    -2.146330    -2.444776  ...   \n",
      "25%      -0.534967    -0.846770    -0.712591    -0.661615    -0.520206  ...   \n",
      "50%       0.076748     0.113379    -0.079042    -0.141965     0.092157  ...   \n",
      "75%       0.863238     0.833490     0.501711     0.748864     0.835741  ...   \n",
      "max       2.348830     2.753787     3.933434     2.604758     2.060467  ...   \n",
      "\n",
      "          1.251179     0.807707    -0.069968      1.21916     1.250463  \\\n",
      "count  6429.000000  6429.000000  6429.000000  6429.000000  6429.000000   \n",
      "mean     -0.000625    -0.000303    -0.000615    -0.000906    -0.000720   \n",
      "std       1.000148     1.000298     0.999975     0.999984     0.999973   \n",
      "min      -2.962511    -2.825539    -2.219281    -2.457440    -2.940074   \n",
      "25%      -0.855666    -0.719309    -0.662882    -0.531602    -0.844805   \n",
      "50%       0.047268    -0.087440    -0.069968     0.081165     0.053167   \n",
      "75%       0.829810     0.491773     0.745289     0.869008     0.831409   \n",
      "max       2.455091     3.756429     2.598145     2.050772     2.747083   \n",
      "\n",
      "          0.597678    -0.054291     1.233342     1.262255     0.603258  \n",
      "count  6429.000000  6429.000000  6429.000000  6429.000000  6429.000000  \n",
      "mean     -0.000305    -0.000588    -0.000858    -0.000666    -0.000220  \n",
      "std       1.000321     0.999955     0.999972     0.999963     1.000338  \n",
      "min      -2.815531    -2.218211    -2.448131    -2.930494    -2.808050  \n",
      "25%      -0.715095    -0.651234    -0.519740    -0.834119    -0.761265  \n",
      "50%      -0.084964    -0.128909     0.050011     0.064327    -0.079004  \n",
      "75%       0.492656     0.766507     0.838898     0.842981     0.498294  \n",
      "max       3.905865     2.631955     2.066056     2.759666     3.909603  \n",
      "\n",
      "[8 rows x 36 columns]\n",
      "\n",
      "Label Statistics:\n",
      "count    6429.000000\n",
      "mean        3.670089\n",
      "std         2.214299\n",
      "min         1.000000\n",
      "25%         2.000000\n",
      "50%         3.000000\n",
      "75%         5.000000\n",
      "max         7.000000\n",
      "Name: 1, dtype: float64\n"
     ]
    }
   ],
   "source": [
    "# For features\n",
    "feature_statistics = X.describe()\n",
    "\n",
    "# For the label\n",
    "label_statistics = y.describe()\n",
    "\n",
    "print(\"Feature Statistics:\")\n",
    "print(feature_statistics)\n",
    "\n",
    "print(\"\\nLabel Statistics:\")\n",
    "print(label_statistics)\n"
   ]
  },
  {
   "cell_type": "markdown",
   "metadata": {},
   "source": [
    "## 3. Train an SVM classifier and fine-tune the hyper parameters on the validation set"
   ]
  },
  {
   "cell_type": "markdown",
   "metadata": {},
   "source": [
    "After all the fine tuning, report the best results on the validation set."
   ]
  },
  {
   "cell_type": "code",
   "execution_count": 3,
   "metadata": {},
   "outputs": [
    {
     "name": "stdout",
     "output_type": "stream",
     "text": [
      "Best Hyperparameters: {'C': 10, 'gamma': 'scale', 'kernel': 'rbf'}\n",
      "Best Cross-Validation Score: 0.9071111111111112\n",
      "\n",
      "Classification Report on Validation Set:\n",
      "               precision    recall  f1-score   support\n",
      "\n",
      "           1       0.99      0.97      0.98       238\n",
      "           2       0.96      0.97      0.97       103\n",
      "           3       0.89      0.95      0.92       194\n",
      "           4       0.74      0.64      0.69        94\n",
      "           5       0.88      0.84      0.86       108\n",
      "           7       0.85      0.88      0.86       227\n",
      "\n",
      "    accuracy                           0.90       964\n",
      "   macro avg       0.88      0.87      0.88       964\n",
      "weighted avg       0.90      0.90      0.90       964\n",
      "\n"
     ]
    }
   ],
   "source": [
    "from sklearn.svm import SVC\n",
    "from sklearn.model_selection import GridSearchCV\n",
    "from sklearn.metrics import classification_report\n",
    "\n",
    "# Initialize the SVM classifier\n",
    "svm_classifier = SVC()\n",
    "\n",
    "# Define a parameter grid for hyperparameter tuning\n",
    "param_grid = {\n",
    "    'C': [0.1, 1, 10],           # Regularization parameter\n",
    "    'kernel': ['linear', 'rbf'],  # Kernel type\n",
    "    'gamma': ['scale', 'auto'],   # Kernel coefficient\n",
    "}\n",
    "\n",
    "# Create a GridSearchCV object to perform hyperparameter tuning\n",
    "grid_search = GridSearchCV(svm_classifier, param_grid, cv=5, n_jobs=-1)\n",
    "\n",
    "# Fit the model on the training set\n",
    "grid_search.fit(X_train, y_train)\n",
    "\n",
    "# Report the best hyperparameters and results on the validation set\n",
    "best_params = grid_search.best_params_\n",
    "best_score = grid_search.best_score_\n",
    "best_estimator = grid_search.best_estimator_\n",
    "\n",
    "print(\"Best Hyperparameters:\", best_params)\n",
    "print(\"Best Cross-Validation Score:\", best_score)\n",
    "\n",
    "# Evaluate the best model on the validation set\n",
    "y_val_pred = best_estimator.predict(X_val)\n",
    "classification_rep = classification_report(y_val, y_val_pred)\n",
    "\n",
    "print(\"\\nClassification Report on Validation Set:\\n\", classification_rep)\n"
   ]
  },
  {
   "cell_type": "markdown",
   "metadata": {},
   "source": [
    "## 4. Do the final test on the test set"
   ]
  },
  {
   "cell_type": "markdown",
   "metadata": {},
   "source": [
    "Do the final scoring on the test set. Report different measure and show the confusion matrix. Record your observations."
   ]
  },
  {
   "cell_type": "code",
   "execution_count": 4,
   "metadata": {},
   "outputs": [
    {
     "name": "stdout",
     "output_type": "stream",
     "text": [
      "Test Set Metrics:\n",
      "Accuracy: 0.9202072538860103\n",
      "Precision: 0.9182070119708354\n",
      "Recall: 0.9202072538860103\n",
      "F1-Score: 0.9172320589040983\n",
      "\n",
      "Confusion Matrix:\n",
      "[[218   0   1   0   2   0]\n",
      " [  0 115   0   0   1   0]\n",
      " [  0   0 173   3   0   0]\n",
      " [  3   0  24  60   2  12]\n",
      " [  0   1   1   1  98   4]\n",
      " [  0   1   2  14   5 224]]\n"
     ]
    }
   ],
   "source": [
    "from sklearn.metrics import accuracy_score, precision_score, recall_score, f1_score, confusion_matrix\n",
    "\n",
    "# Use the best model found during hyperparameter tuning\n",
    "best_model = best_estimator\n",
    "\n",
    "# Make predictions on the test set\n",
    "y_test_pred = best_model.predict(X_test)\n",
    "\n",
    "# Calculate various performance metrics\n",
    "accuracy = accuracy_score(y_test, y_test_pred)\n",
    "precision = precision_score(y_test, y_test_pred, average='weighted')\n",
    "recall = recall_score(y_test, y_test_pred, average='weighted')\n",
    "f1 = f1_score(y_test, y_test_pred, average='weighted')\n",
    "\n",
    "# Generate the confusion matrix\n",
    "conf_matrix = confusion_matrix(y_test, y_test_pred)\n",
    "\n",
    "# Print the performance metrics and confusion matrix\n",
    "print(\"Test Set Metrics:\")\n",
    "print(\"Accuracy:\", accuracy)\n",
    "print(\"Precision:\", precision)\n",
    "print(\"Recall:\", recall)\n",
    "print(\"F1-Score:\", f1)\n",
    "\n",
    "print(\"\\nConfusion Matrix:\")\n",
    "print(conf_matrix)\n"
   ]
  },
  {
   "cell_type": "code",
   "execution_count": null,
   "metadata": {},
   "outputs": [],
   "source": []
  }
 ],
 "metadata": {
  "kernelspec": {
   "display_name": "Python 3 (ipykernel)",
   "language": "python",
   "name": "python3"
  },
  "language_info": {
   "codemirror_mode": {
    "name": "ipython",
    "version": 3
   },
   "file_extension": ".py",
   "mimetype": "text/x-python",
   "name": "python",
   "nbconvert_exporter": "python",
   "pygments_lexer": "ipython3",
   "version": "3.9.7"
  }
 },
 "nbformat": 4,
 "nbformat_minor": 2
}
